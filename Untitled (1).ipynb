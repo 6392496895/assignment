{
 "cells": [
  {
   "cell_type": "code",
   "execution_count": null,
   "id": "d0b0f288-3e40-484a-8a93-57673f3c1b3d",
   "metadata": {},
   "outputs": [],
   "source": [
    "# 1. Who developed python programming language ?\n",
    "# Ans . Guido van rossum developed python prgramming language . "
   ]
  },
  {
   "cell_type": "code",
   "execution_count": 1,
   "id": "731127a4-fad9-4fc1-91e2-3a7cf6a5a3ec",
   "metadata": {},
   "outputs": [],
   "source": [
    "# 2. Which type of  programming does python support?\n",
    "# Ans . Python is an interpreted programming language , support object - oriented ,structured and functinal programming."
   ]
  },
  {
   "cell_type": "code",
   "execution_count": 2,
   "id": "54eac05b-99f1-4cce-b838-adb8ccb0cea5",
   "metadata": {},
   "outputs": [],
   "source": [
    "# 3. Is python case sensitive when dealing with identifier ? \n",
    "# Ans . YES python is a case sensitive language."
   ]
  },
  {
   "cell_type": "code",
   "execution_count": 3,
   "id": "e05616b9-0cdc-44d7-b555-d460aa130ced",
   "metadata": {},
   "outputs": [],
   "source": [
    "# 4. what is the correct extension of the pyton file?\n",
    "# Ans . ( .py is the correct extensio of python file ) ."
   ]
  },
  {
   "cell_type": "code",
   "execution_count": 4,
   "id": "03b66fcf-c5bb-42b7-aedc-7115ad784bf1",
   "metadata": {},
   "outputs": [],
   "source": [
    "# 5. Is python code compiled or interpreted ?\n",
    "# Ans . python is a interpreted programming language ."
   ]
  },
  {
   "cell_type": "code",
   "execution_count": 5,
   "id": "4ba7abde-5d84-4f46-956f-be9c086dc777",
   "metadata": {},
   "outputs": [],
   "source": [
    "# 6.  Name a few blocks of code used to define in python language ?\n",
    "# Ans . In python , to define a block of code we use identation."
   ]
  },
  {
   "cell_type": "code",
   "execution_count": 6,
   "id": "f35af96d-e384-47fc-b500-30de053336af",
   "metadata": {},
   "outputs": [],
   "source": [
    "# 7. State a character used to give  single line comment in python ? \n",
    "# Ans . Hash character # used to give  single line comment in python"
   ]
  },
  {
   "cell_type": "code",
   "execution_count": 7,
   "id": "5291c705-ce3c-4c5f-ae7d-0ee0c29defea",
   "metadata": {},
   "outputs": [],
   "source": [
    "# 8. Mention function which can help us to find the of version of python that we are currently working on ?\n",
    "# Ans . Function sys.version  can help us to find the of version of python that we are currently working on."
   ]
  },
  {
   "cell_type": "code",
   "execution_count": 8,
   "id": "5443606c-8c54-4bc6-a508-5a2c8bf46dd7",
   "metadata": {},
   "outputs": [],
   "source": [
    "# 9. python supports the creation of anonymous function at runtime using a construct called ?\n",
    "# Ans . python supports the creation of anonymous function which are not bound to a name (@ runtime). it uses a construct called \"lamda\"."
   ]
  },
  {
   "cell_type": "code",
   "execution_count": 9,
   "id": "ab95077c-4458-4c4a-a019-d632c9a42de4",
   "metadata": {},
   "outputs": [],
   "source": [
    "# 10. what does pip stand for python ?\n",
    "# Ans . pip stand for preferred installer program."
   ]
  },
  {
   "cell_type": "code",
   "execution_count": 10,
   "id": "caba09e3-4de8-4d92-a1ab-5d7ebbeea408",
   "metadata": {},
   "outputs": [],
   "source": [
    "# 11. Mention a few built in function in python ?\n",
    "# Ans . print( ) function.\n",
    "# print( ) function.\n",
    "# type( ) function.\n",
    "# input( ) function.\n",
    "# abs( ) function.\n",
    "# pow( ) function.\n",
    "# dir( ) function.\n",
    "# sorted( ) function.\n",
    "# max( ) function."
   ]
  },
  {
   "cell_type": "code",
   "execution_count": 11,
   "id": "e751e32e-b145-4f4d-9fea-a410c34c0eb5",
   "metadata": {},
   "outputs": [],
   "source": [
    "# 12. what is the maximum possible length  of an identifier in python ?\n",
    "# Ans . An identifier can have a maximum length of 79 characters in Python. Python is one of the most popular programming languages."
   ]
  },
  {
   "cell_type": "code",
   "execution_count": 12,
   "id": "7ef45b2c-1c6a-4604-98f3-76330621637b",
   "metadata": {},
   "outputs": [],
   "source": [
    "# 13. what are the benifits of using python ?\n",
    "# Ans . Easy to Code. Python is a very high-level programming language, yet it is effortless to learn. ...\n",
    "# Easy to Read. ...\n",
    "# Free and Open-Source. ...\n",
    "# Robust Standard Library. ...\n",
    "# Interpreted. ...\n",
    "# Portable. ...\n",
    "# Object-Oriented and Procedure-Oriented. ...\n",
    "# Extensible."
   ]
  },
  {
   "cell_type": "code",
   "execution_count": 13,
   "id": "78aac289-feac-4998-bfa4-24d0db239c96",
   "metadata": {},
   "outputs": [],
   "source": [
    "# 14. How is memory managed in python ?\n",
    "# Ans . Memory management in Python involves a private heap containing all Python objects and data structures. The management of this private heap is ensured internally by the Python memory manager."
   ]
  },
  {
   "cell_type": "code",
   "execution_count": 14,
   "id": "0a199e2f-e0d4-4044-90c5-37fd91179bc6",
   "metadata": {},
   "outputs": [],
   "source": [
    "# 15. How to install python on windows and set path variables ?\n",
    "# Ans . In the section entitled User Variables, double-click on the entry that says Path. Another window will pop up showing a list of paths. Click the New button and paste the path to your Python executable there. Once that's inserted, select your newly added path and click the Move Up button until it's at the top"
   ]
  },
  {
   "cell_type": "code",
   "execution_count": null,
   "id": "2425f14c-efdd-4054-bf5c-5a7d8b842f64",
   "metadata": {},
   "outputs": [],
   "source": [
    "# 16. Is identation required in python ?\n",
    "# Ans . Indentation is mandatory in python to define the blocks of statements. It is preferred to use whitespaces instead of tabs to indent in python. Python uses four spaces as default indentation spaces."
   ]
  }
 ],
 "metadata": {
  "kernelspec": {
   "display_name": "Python 3 (ipykernel)",
   "language": "python",
   "name": "python3"
  },
  "language_info": {
   "codemirror_mode": {
    "name": "ipython",
    "version": 3
   },
   "file_extension": ".py",
   "mimetype": "text/x-python",
   "name": "python",
   "nbconvert_exporter": "python",
   "pygments_lexer": "ipython3",
   "version": "3.10.8"
  }
 },
 "nbformat": 4,
 "nbformat_minor": 5
}
